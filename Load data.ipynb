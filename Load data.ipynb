{
 "cells": [
  {
   "cell_type": "code",
   "execution_count": 6,
   "metadata": {
    "collapsed": true
   },
   "outputs": [],
   "source": [
    "import pandas as pd\n",
    "import numpy as np\n",
    "import xml.etree.ElementTree as ET\n",
    "from bs4 import *"
   ]
  },
  {
   "cell_type": "code",
   "execution_count": 7,
   "metadata": {
    "collapsed": true
   },
   "outputs": [],
   "source": [
    "filename = 'sample_data.txt'\n",
    "data = open(filename,'r')\n",
    "soup = BeautifulSoup(data,'lxml')"
   ]
  },
  {
   "cell_type": "code",
   "execution_count": 9,
   "metadata": {},
   "outputs": [
    {
     "data": {
      "text/plain": [
       "<objectdata version=\"1.0\" xmlns:xsi=\"http://www.w3.org/2001/XMLSchema-instance\" xsi:nonamespaceschemalocation=\"Logging.xsd\"><devicename>0089PS06CT1</devicename><deviceid>32</deviceid><timestamp>2017-07-07T23:00:05.633</timestamp><incr>21126</incr><tokenid>0089PS06CT12017-07-07T23:00:03417</tokenid><seqnb>5864</seqnb><general errornb=\"0\" ie=\"15589\" iostate=\"8800\" is=\"14764\" lftf=\"N\" lfts=\"7\" oc=\"0\" oi=\"269396\" on=\"417\" ox=\"5136\"><timestamp>2017-07-07T23:00:03.593</timestamp><otl unit=\"inch\"><value>33.34</value></otl><tt unit=\"ms\"><value>309</value></tt><oga unit=\"inch\"><value>314.13</value></oga><devicelist>FC300008</devicelist><udi udi2=\"1116\" udi3=\"1\" udi4=\"0\" udi5=\"1024\"></udi><uds uds1=\"&lt;rxstring&gt;07/07/2017;23:56:44;0111.6;LB;13;3402;999;0002794051&lt;/rxstring&gt;&lt;rxoffset&gt;4.80&lt;/rxoffset&gt;&lt;rxfields&gt;&lt;ss&gt;13&lt;/ss&gt;&lt;sw&gt;0111.6&lt;/sw&gt;&lt;/rxfields&gt;&lt;condition&gt;OcsRx,OcsValid&lt;/condition&gt;&lt;txfields&gt;&lt;ss&gt;13&lt;/ss&gt;&lt;sw&gt;1116&lt;/sw&gt;&lt;/txfields&gt;\" uds2='&lt;owe unit=\"LB\"&gt;&lt;value&gt;111.60&lt;/value&gt;&lt;/owe&gt;' uds3=\"19\" uds4=\"13\" uds5=\"NR\"></uds><usertag1 name=\"SE\">SE201707072300030089PS06CT1269396S0033.60035.60023.0IN  000004000111.6LB130239]L0232PDF</usertag1><usertag2 name=\"SI\">SIPS06CT1269396?2DONLY                                           0033.60035.60023.0IN000004000111.6LB13</usertag2></general><condition>NoRead,ValidDim,NotLFT</condition><barcode cc=\"1\" vcc=\"1\"><codevalid id=\"r\"><st>0</st><wud>0</wud><cs>0</cs><bdn>2</bdn><cl>229</cl><bc></bc><condition>Ref,Camera,FXG2DBarcode,PDF</condition><position unit=\"mm\" x=\"703\" xmax=\"752\" xmin=\"703\" y=\"1063\" z=\"103\"></position><readlist>48000000</readlist><norca fee=\"1\" fv=\"0\" rq=\"97\" vee=\"0\"></norca><devices><device dn=\"5\"><due>0</due><position unit=\"mm\" x=\"703\" y=\"1063\" z=\"103\"></position><norca fee=\"1\" fv=\"0\" rq=\"97\" vee=\"0\"></norca></device><device dn=\"2\"><due>0</due><position unit=\"mm\" x=\"752\" y=\"1057\" z=\"77\"></position><norca fee=\"1\" fv=\"0\" rq=\"65\" vee=\"0\"></norca></device></devices></codevalid></barcode><volumetric oms1=\"0000\" oms2=\"00000000\" oms3=\"00000001\"><size ohe=\"23.00\" ole=\"33.60\" owi=\"35.60\" unit=\"inch\"></size><oa unit=\"degree/10\"><value>-900</value></oa><obv unit=\"inch3/10\"><value>275117</value></obv><orv unit=\"inch3/10\"><value>0</value></orv><otve unit=\"mm/sec\"><value>2786</value></otve><polygon oc1x=\"0.00\" oc1y=\"6.26\" oc1z=\"22.99\" oc2x=\"0.00\" oc2y=\"41.94\" oc2z=\"22.99\" oc3x=\"33.01\" oc3y=\"6.26\" oc3z=\"22.99\" oc4x=\"33.01\" oc4y=\"41.94\" oc4z=\"22.99\" unit=\"inch\"></polygon></volumetric><sorterstate state=\"started\"><speed unit=\"ft/min\"><value>540.55</value></speed></sorterstate><sortstate session=\"SOS\" sortname=\"2017-07-07 21:20:34\"></sortstate><ocsdata><rxstring>07/07/2017;23:56:44;0111.6;LB;13;3402;999;0002794051</rxstring><rxoffset>4.80</rxoffset><rxfields><ss>13</ss><sw>0111.6</sw></rxfields><condition>OcsRx,OcsValid</condition><txfields><ss>13</ss><sw>1116</sw></txfields></ocsdata><scaledata ows=\"19\"><owe unit=\"LB\"><value>111.60</value></owe></scaledata><hostmessage>PDF</hostmessage></objectdata>"
      ]
     },
     "execution_count": 9,
     "metadata": {},
     "output_type": "execute_result"
    }
   ],
   "source": []
  },
  {
   "cell_type": "code",
   "execution_count": 3,
   "metadata": {},
   "outputs": [
    {
     "data": {
      "text/html": [
       "<div>\n",
       "<style>\n",
       "    .dataframe thead tr:only-child th {\n",
       "        text-align: right;\n",
       "    }\n",
       "\n",
       "    .dataframe thead th {\n",
       "        text-align: left;\n",
       "    }\n",
       "\n",
       "    .dataframe tbody tr th {\n",
       "        vertical-align: top;\n",
       "    }\n",
       "</style>\n",
       "<table border=\"1\" class=\"dataframe\">\n",
       "  <thead>\n",
       "    <tr style=\"text-align: right;\">\n",
       "      <th></th>\n",
       "      <th>barcode</th>\n",
       "      <th>condition</th>\n",
       "      <th>deviceid</th>\n",
       "      <th>devicename</th>\n",
       "      <th>general</th>\n",
       "      <th>hostmessage</th>\n",
       "      <th>incr</th>\n",
       "      <th>ocsdata</th>\n",
       "      <th>scaledata</th>\n",
       "      <th>seqnb</th>\n",
       "      <th>sorterstate</th>\n",
       "      <th>sortstate</th>\n",
       "      <th>timestamp</th>\n",
       "      <th>tokenid</th>\n",
       "      <th>volumetric</th>\n",
       "    </tr>\n",
       "  </thead>\n",
       "  <tbody>\n",
       "    <tr>\n",
       "      <th>0</th>\n",
       "      <td>&lt;barcode cc=\"1\" vcc=\"1\"&gt;&lt;codevalid id=\"r\"&gt;&lt;st&gt;...</td>\n",
       "      <td>&lt;condition&gt;NoRead,ValidDim,NotLFT&lt;/condition&gt;</td>\n",
       "      <td>&lt;deviceid&gt;32&lt;/deviceid&gt;</td>\n",
       "      <td>&lt;devicename&gt;0089PS06CT1&lt;/devicename&gt;</td>\n",
       "      <td>&lt;general errornb=\"0\" ie=\"15589\" iostate=\"8800\"...</td>\n",
       "      <td>&lt;hostmessage&gt;PDF&lt;/hostmessage&gt;</td>\n",
       "      <td>&lt;incr&gt;21126&lt;/incr&gt;</td>\n",
       "      <td>&lt;ocsdata&gt;&lt;rxstring&gt;07/07/2017;23:56:44;0111.6;...</td>\n",
       "      <td>&lt;scaledata ows=\"19\"&gt;&lt;owe unit=\"LB\"&gt;&lt;value&gt;111....</td>\n",
       "      <td>&lt;seqnb&gt;5864&lt;/seqnb&gt;</td>\n",
       "      <td>&lt;sorterstate state=\"started\"&gt;&lt;speed unit=\"ft/m...</td>\n",
       "      <td>&lt;sortstate session=\"SOS\" sortname=\"2017-07-07 ...</td>\n",
       "      <td>&lt;timestamp&gt;2017-07-07T23:00:05.633&lt;/timestamp&gt;</td>\n",
       "      <td>&lt;tokenid&gt;0089PS06CT12017-07-07T23:00:03417&lt;/to...</td>\n",
       "      <td>&lt;volumetric oms1=\"0000\" oms2=\"00000000\" oms3=\"...</td>\n",
       "    </tr>\n",
       "    <tr>\n",
       "      <th>1</th>\n",
       "      <td>&lt;barcode cc=\"1\" vcc=\"1\"&gt;&lt;codevalid id=\"j\"&gt;&lt;st&gt;...</td>\n",
       "      <td>&lt;condition&gt;ValidDim,ValidWeight,ValidRead,PDFN...</td>\n",
       "      <td>&lt;deviceid&gt;32&lt;/deviceid&gt;</td>\n",
       "      <td>&lt;devicename&gt;0089PS06CT1&lt;/devicename&gt;</td>\n",
       "      <td>&lt;general errornb=\"0\" ie=\"16743\" iostate=\"8800\"...</td>\n",
       "      <td>&lt;hostmessage&gt;]C0037962200190000357853670078708...</td>\n",
       "      <td>&lt;incr&gt;22266&lt;/incr&gt;</td>\n",
       "      <td>&lt;ocsdata&gt;&lt;rxstring&gt;07/07/2017;23:56:45;0007.2;...</td>\n",
       "      <td>&lt;scaledata ows=\"0\"&gt;&lt;owe unit=\"LB\"&gt;&lt;value&gt;7.20&lt;...</td>\n",
       "      <td>&lt;seqnb&gt;5865&lt;/seqnb&gt;</td>\n",
       "      <td>&lt;sorterstate state=\"started\"&gt;&lt;speed unit=\"ft/m...</td>\n",
       "      <td>&lt;sortstate session=\"SOS\" sortname=\"2017-07-07 ...</td>\n",
       "      <td>&lt;timestamp&gt;2017-07-07T23:00:06.061&lt;/timestamp&gt;</td>\n",
       "      <td>&lt;tokenid&gt;0089PS06CT12017-07-07T23:00:04418&lt;/to...</td>\n",
       "      <td>&lt;volumetric oms1=\"0000\" oms2=\"00000000\" oms3=\"...</td>\n",
       "    </tr>\n",
       "  </tbody>\n",
       "</table>\n",
       "</div>"
      ],
      "text/plain": [
       "                                             barcode  \\\n",
       "0  <barcode cc=\"1\" vcc=\"1\"><codevalid id=\"r\"><st>...   \n",
       "1  <barcode cc=\"1\" vcc=\"1\"><codevalid id=\"j\"><st>...   \n",
       "\n",
       "                                           condition                 deviceid  \\\n",
       "0      <condition>NoRead,ValidDim,NotLFT</condition>  <deviceid>32</deviceid>   \n",
       "1  <condition>ValidDim,ValidWeight,ValidRead,PDFN...  <deviceid>32</deviceid>   \n",
       "\n",
       "                             devicename  \\\n",
       "0  <devicename>0089PS06CT1</devicename>   \n",
       "1  <devicename>0089PS06CT1</devicename>   \n",
       "\n",
       "                                             general  \\\n",
       "0  <general errornb=\"0\" ie=\"15589\" iostate=\"8800\"...   \n",
       "1  <general errornb=\"0\" ie=\"16743\" iostate=\"8800\"...   \n",
       "\n",
       "                                         hostmessage                incr  \\\n",
       "0                     <hostmessage>PDF</hostmessage>  <incr>21126</incr>   \n",
       "1  <hostmessage>]C0037962200190000357853670078708...  <incr>22266</incr>   \n",
       "\n",
       "                                             ocsdata  \\\n",
       "0  <ocsdata><rxstring>07/07/2017;23:56:44;0111.6;...   \n",
       "1  <ocsdata><rxstring>07/07/2017;23:56:45;0007.2;...   \n",
       "\n",
       "                                           scaledata                seqnb  \\\n",
       "0  <scaledata ows=\"19\"><owe unit=\"LB\"><value>111....  <seqnb>5864</seqnb>   \n",
       "1  <scaledata ows=\"0\"><owe unit=\"LB\"><value>7.20<...  <seqnb>5865</seqnb>   \n",
       "\n",
       "                                         sorterstate  \\\n",
       "0  <sorterstate state=\"started\"><speed unit=\"ft/m...   \n",
       "1  <sorterstate state=\"started\"><speed unit=\"ft/m...   \n",
       "\n",
       "                                           sortstate  \\\n",
       "0  <sortstate session=\"SOS\" sortname=\"2017-07-07 ...   \n",
       "1  <sortstate session=\"SOS\" sortname=\"2017-07-07 ...   \n",
       "\n",
       "                                        timestamp  \\\n",
       "0  <timestamp>2017-07-07T23:00:05.633</timestamp>   \n",
       "1  <timestamp>2017-07-07T23:00:06.061</timestamp>   \n",
       "\n",
       "                                             tokenid  \\\n",
       "0  <tokenid>0089PS06CT12017-07-07T23:00:03417</to...   \n",
       "1  <tokenid>0089PS06CT12017-07-07T23:00:04418</to...   \n",
       "\n",
       "                                          volumetric  \n",
       "0  <volumetric oms1=\"0000\" oms2=\"00000000\" oms3=\"...  \n",
       "1  <volumetric oms1=\"0000\" oms2=\"00000000\" oms3=\"...  "
      ]
     },
     "execution_count": 3,
     "metadata": {},
     "output_type": "execute_result"
    }
   ],
   "source": [
    "#Capture all field names\n",
    "obj = soup.objectdata\n",
    "features = {n.name:[] for n in obj}\n",
    "#Grab field information for each field\n",
    "for obj in soup.find_all('objectdata'):\n",
    "    for feature in features.keys():\n",
    "        features[feature].append(obj.find(feature))\n",
    "df = pd.DataFrame(features)\n",
    "df.head(2)"
   ]
  },
  {
   "cell_type": "code",
   "execution_count": 4,
   "metadata": {},
   "outputs": [],
   "source": [
    "\"\"\"Pre-process label for each example\"\"\"\n",
    "#Create dictionary to assign encoded integer to each class.\n",
    "classes = ['LFT','TooBig','NoRead','ValidDim','MultiRead','Irreg','TooSmall','Gap']\n",
    "class_dict = {classes[i]:i for i in range(len(classes))}\n",
    "\n",
    "#Extract and encode contents of condition field only for conditions listed in the `classes` list\n",
    "conditions = [[class_dict[c] for c in obj.condition.contents[0].split(',') if c in classes]\\\n",
    "              for obj in soup.find_all('objectdata')]\n",
    "##Perform one-hot-encoding\n",
    "#Initialize matrix\n",
    "conditions_encoded = np.zeros([len(conditions),len(classes)])\n",
    "#Encode position in matrix for place of class\n",
    "for c in range(len(conditions)):\n",
    "    conditions_encoded[c,conditions[c]] = 1\n",
    "#Store in dataframe\n",
    "label_df = pd.DataFrame(conditions_encoded,columns=classes).astype(int)"
   ]
  },
  {
   "cell_type": "code",
   "execution_count": 33,
   "metadata": {},
   "outputs": [
    {
     "ename": "TypeError",
     "evalue": "float() argument must be a string or a number, not 'list'",
     "output_type": "error",
     "traceback": [
      "\u001b[1;31m---------------------------------------------------------------------------\u001b[0m",
      "\u001b[1;31mTypeError\u001b[0m                                 Traceback (most recent call last)",
      "\u001b[1;32m<ipython-input-33-1e31c19696c9>\u001b[0m in \u001b[0;36m<module>\u001b[1;34m()\u001b[0m\n\u001b[0;32m     20\u001b[0m \u001b[0mbelt_vel\u001b[0m \u001b[1;33m=\u001b[0m \u001b[0mfloat\u001b[0m\u001b[1;33m(\u001b[0m\u001b[0mobj\u001b[0m\u001b[1;33m.\u001b[0m\u001b[0msorterstate\u001b[0m\u001b[1;33m.\u001b[0m\u001b[0mspeed\u001b[0m\u001b[1;33m.\u001b[0m\u001b[0mvalue\u001b[0m\u001b[1;33m.\u001b[0m\u001b[0mcontents\u001b[0m\u001b[1;33m[\u001b[0m\u001b[1;36m0\u001b[0m\u001b[1;33m]\u001b[0m\u001b[1;33m)\u001b[0m\u001b[1;33m\u001b[0m\u001b[0m\n\u001b[0;32m     21\u001b[0m \u001b[0mbelt_vel_units\u001b[0m \u001b[1;33m=\u001b[0m \u001b[0mobj\u001b[0m\u001b[1;33m.\u001b[0m\u001b[0msorterstate\u001b[0m\u001b[1;33m.\u001b[0m\u001b[0mspeed\u001b[0m\u001b[1;33m.\u001b[0m\u001b[0mattrs\u001b[0m\u001b[1;33m[\u001b[0m\u001b[1;34m'unit'\u001b[0m\u001b[1;33m]\u001b[0m\u001b[1;33m\u001b[0m\u001b[0m\n\u001b[1;32m---> 22\u001b[1;33m \u001b[0mfloat\u001b[0m\u001b[1;33m(\u001b[0m\u001b[0mobj\u001b[0m\u001b[1;33m.\u001b[0m\u001b[0mscaledata\u001b[0m\u001b[1;33m.\u001b[0m\u001b[0mvalue\u001b[0m\u001b[1;33m.\u001b[0m\u001b[0mcontents\u001b[0m\u001b[1;33m)\u001b[0m\u001b[1;33m\u001b[0m\u001b[0m\n\u001b[0m",
      "\u001b[1;31mTypeError\u001b[0m: float() argument must be a string or a number, not 'list'"
     ]
    }
   ],
   "source": [
    "\"\"\"Extract relevant information from each field\"\"\"\n",
    "#Time stamp\n",
    "[date,time] = obj.timestamp.contents[0].split('T')\n",
    "#Gap information\n",
    "gap = float(obj.oga.contents[0].contents[0])\n",
    "#Item volume\n",
    "vol_keys = ['ohe','owi','ole']\n",
    "[height,width,length] = [float(obj.volumetric.size.attrs[key]) for key in vol_keys]\n",
    "vol = height*width*length\n",
    "vol_units = obj.volumetric.size.attrs['unit']\n",
    "#Item angle\n",
    "angle = int(obj.volumetric.oa.value.contents[0])\n",
    "#Item Velocity\n",
    "vel = int(obj.volumetric.otve.value.contents[0])\n",
    "vel_units = obj.volumetric.otve.attrs['unit']\n",
    "#Item weight\n",
    "weight = obj.scaledata\n",
    "\n",
    "#Conveyor belt velocity\n",
    "belt_vel = float(obj.sorterstate.speed.value.contents[0])\n",
    "belt_vel_units = obj.sorterstate.speed.attrs['unit']\n",
    "float(obj.scaledata.value.contents)"
   ]
  }
 ],
 "metadata": {
  "kernelspec": {
   "display_name": "Python 3",
   "language": "python",
   "name": "python3"
  },
  "language_info": {
   "codemirror_mode": {
    "name": "ipython",
    "version": 3
   },
   "file_extension": ".py",
   "mimetype": "text/x-python",
   "name": "python",
   "nbconvert_exporter": "python",
   "pygments_lexer": "ipython3",
   "version": "3.6.2"
  }
 },
 "nbformat": 4,
 "nbformat_minor": 2
}
