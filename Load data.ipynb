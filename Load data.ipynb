{
 "cells": [
  {
   "cell_type": "code",
   "execution_count": 65,
   "metadata": {},
   "outputs": [],
   "source": [
    "import pandas as pd\n",
    "import numpy as np\n",
    "from bs4 import *\n",
    "import matplotlib.pyplot as plt\n",
    "import seaborn as sns\n",
    "import matplotlib\n",
    "matplotlib.rcParams['figure.figsize'] = (10,6)\n",
    "plt.rcParams[\"patch.force_edgecolor\"] = True\n",
    "sns.set()"
   ]
  },
  {
   "cell_type": "code",
   "execution_count": 5,
   "metadata": {},
   "outputs": [],
   "source": [
    "filename = 'sample_data.txt'\n",
    "data = open(filename,'r')\n",
    "soup = BeautifulSoup(data,'lxml')"
   ]
  },
  {
   "cell_type": "code",
   "execution_count": 6,
   "metadata": {},
   "outputs": [
    {
     "data": {
      "text/html": [
       "<div>\n",
       "<style>\n",
       "    .dataframe thead tr:only-child th {\n",
       "        text-align: right;\n",
       "    }\n",
       "\n",
       "    .dataframe thead th {\n",
       "        text-align: left;\n",
       "    }\n",
       "\n",
       "    .dataframe tbody tr th {\n",
       "        vertical-align: top;\n",
       "    }\n",
       "</style>\n",
       "<table border=\"1\" class=\"dataframe\">\n",
       "  <thead>\n",
       "    <tr style=\"text-align: right;\">\n",
       "      <th></th>\n",
       "      <th>barcode</th>\n",
       "      <th>condition</th>\n",
       "      <th>deviceid</th>\n",
       "      <th>devicename</th>\n",
       "      <th>general</th>\n",
       "      <th>hostmessage</th>\n",
       "      <th>incr</th>\n",
       "      <th>ocsdata</th>\n",
       "      <th>scaledata</th>\n",
       "      <th>seqnb</th>\n",
       "      <th>sorterstate</th>\n",
       "      <th>sortstate</th>\n",
       "      <th>timestamp</th>\n",
       "      <th>tokenid</th>\n",
       "      <th>volumetric</th>\n",
       "    </tr>\n",
       "  </thead>\n",
       "  <tbody>\n",
       "    <tr>\n",
       "      <th>0</th>\n",
       "      <td>&lt;barcode cc=\"1\" vcc=\"1\"&gt;&lt;codevalid id=\"r\"&gt;&lt;st&gt;...</td>\n",
       "      <td>&lt;condition&gt;NoRead,ValidDim,NotLFT&lt;/condition&gt;</td>\n",
       "      <td>&lt;deviceid&gt;32&lt;/deviceid&gt;</td>\n",
       "      <td>&lt;devicename&gt;0089PS06CT1&lt;/devicename&gt;</td>\n",
       "      <td>&lt;general errornb=\"0\" ie=\"15589\" iostate=\"8800\"...</td>\n",
       "      <td>&lt;hostmessage&gt;PDF&lt;/hostmessage&gt;</td>\n",
       "      <td>&lt;incr&gt;21126&lt;/incr&gt;</td>\n",
       "      <td>&lt;ocsdata&gt;&lt;rxstring&gt;07/07/2017;23:56:44;0111.6;...</td>\n",
       "      <td>&lt;scaledata ows=\"19\"&gt;&lt;owe unit=\"LB\"&gt;&lt;value&gt;111....</td>\n",
       "      <td>&lt;seqnb&gt;5864&lt;/seqnb&gt;</td>\n",
       "      <td>&lt;sorterstate state=\"started\"&gt;&lt;speed unit=\"ft/m...</td>\n",
       "      <td>&lt;sortstate session=\"SOS\" sortname=\"2017-07-07 ...</td>\n",
       "      <td>&lt;timestamp&gt;2017-07-07T23:00:05.633&lt;/timestamp&gt;</td>\n",
       "      <td>&lt;tokenid&gt;0089PS06CT12017-07-07T23:00:03417&lt;/to...</td>\n",
       "      <td>&lt;volumetric oms1=\"0000\" oms2=\"00000000\" oms3=\"...</td>\n",
       "    </tr>\n",
       "    <tr>\n",
       "      <th>1</th>\n",
       "      <td>&lt;barcode cc=\"1\" vcc=\"1\"&gt;&lt;codevalid id=\"j\"&gt;&lt;st&gt;...</td>\n",
       "      <td>&lt;condition&gt;ValidDim,ValidWeight,ValidRead,PDFN...</td>\n",
       "      <td>&lt;deviceid&gt;32&lt;/deviceid&gt;</td>\n",
       "      <td>&lt;devicename&gt;0089PS06CT1&lt;/devicename&gt;</td>\n",
       "      <td>&lt;general errornb=\"0\" ie=\"16743\" iostate=\"8800\"...</td>\n",
       "      <td>&lt;hostmessage&gt;]C0037962200190000357853670078708...</td>\n",
       "      <td>&lt;incr&gt;22266&lt;/incr&gt;</td>\n",
       "      <td>&lt;ocsdata&gt;&lt;rxstring&gt;07/07/2017;23:56:45;0007.2;...</td>\n",
       "      <td>&lt;scaledata ows=\"0\"&gt;&lt;owe unit=\"LB\"&gt;&lt;value&gt;7.20&lt;...</td>\n",
       "      <td>&lt;seqnb&gt;5865&lt;/seqnb&gt;</td>\n",
       "      <td>&lt;sorterstate state=\"started\"&gt;&lt;speed unit=\"ft/m...</td>\n",
       "      <td>&lt;sortstate session=\"SOS\" sortname=\"2017-07-07 ...</td>\n",
       "      <td>&lt;timestamp&gt;2017-07-07T23:00:06.061&lt;/timestamp&gt;</td>\n",
       "      <td>&lt;tokenid&gt;0089PS06CT12017-07-07T23:00:04418&lt;/to...</td>\n",
       "      <td>&lt;volumetric oms1=\"0000\" oms2=\"00000000\" oms3=\"...</td>\n",
       "    </tr>\n",
       "  </tbody>\n",
       "</table>\n",
       "</div>"
      ],
      "text/plain": [
       "                                             barcode  \\\n",
       "0  <barcode cc=\"1\" vcc=\"1\"><codevalid id=\"r\"><st>...   \n",
       "1  <barcode cc=\"1\" vcc=\"1\"><codevalid id=\"j\"><st>...   \n",
       "\n",
       "                                           condition                 deviceid  \\\n",
       "0      <condition>NoRead,ValidDim,NotLFT</condition>  <deviceid>32</deviceid>   \n",
       "1  <condition>ValidDim,ValidWeight,ValidRead,PDFN...  <deviceid>32</deviceid>   \n",
       "\n",
       "                             devicename  \\\n",
       "0  <devicename>0089PS06CT1</devicename>   \n",
       "1  <devicename>0089PS06CT1</devicename>   \n",
       "\n",
       "                                             general  \\\n",
       "0  <general errornb=\"0\" ie=\"15589\" iostate=\"8800\"...   \n",
       "1  <general errornb=\"0\" ie=\"16743\" iostate=\"8800\"...   \n",
       "\n",
       "                                         hostmessage                incr  \\\n",
       "0                     <hostmessage>PDF</hostmessage>  <incr>21126</incr>   \n",
       "1  <hostmessage>]C0037962200190000357853670078708...  <incr>22266</incr>   \n",
       "\n",
       "                                             ocsdata  \\\n",
       "0  <ocsdata><rxstring>07/07/2017;23:56:44;0111.6;...   \n",
       "1  <ocsdata><rxstring>07/07/2017;23:56:45;0007.2;...   \n",
       "\n",
       "                                           scaledata                seqnb  \\\n",
       "0  <scaledata ows=\"19\"><owe unit=\"LB\"><value>111....  <seqnb>5864</seqnb>   \n",
       "1  <scaledata ows=\"0\"><owe unit=\"LB\"><value>7.20<...  <seqnb>5865</seqnb>   \n",
       "\n",
       "                                         sorterstate  \\\n",
       "0  <sorterstate state=\"started\"><speed unit=\"ft/m...   \n",
       "1  <sorterstate state=\"started\"><speed unit=\"ft/m...   \n",
       "\n",
       "                                           sortstate  \\\n",
       "0  <sortstate session=\"SOS\" sortname=\"2017-07-07 ...   \n",
       "1  <sortstate session=\"SOS\" sortname=\"2017-07-07 ...   \n",
       "\n",
       "                                        timestamp  \\\n",
       "0  <timestamp>2017-07-07T23:00:05.633</timestamp>   \n",
       "1  <timestamp>2017-07-07T23:00:06.061</timestamp>   \n",
       "\n",
       "                                             tokenid  \\\n",
       "0  <tokenid>0089PS06CT12017-07-07T23:00:03417</to...   \n",
       "1  <tokenid>0089PS06CT12017-07-07T23:00:04418</to...   \n",
       "\n",
       "                                          volumetric  \n",
       "0  <volumetric oms1=\"0000\" oms2=\"00000000\" oms3=\"...  \n",
       "1  <volumetric oms1=\"0000\" oms2=\"00000000\" oms3=\"...  "
      ]
     },
     "execution_count": 6,
     "metadata": {},
     "output_type": "execute_result"
    }
   ],
   "source": [
    "#Capture all field names\n",
    "obj = soup.objectdata\n",
    "features = {n.name:[] for n in obj}\n",
    "#Grab field information for each field\n",
    "for obj in soup.find_all('objectdata'):\n",
    "    for feature in features.keys():\n",
    "        features[feature].append(obj.find(feature))\n",
    "df = pd.DataFrame(features)\n",
    "df.head(2)"
   ]
  },
  {
   "cell_type": "code",
   "execution_count": 7,
   "metadata": {},
   "outputs": [],
   "source": [
    "\"\"\"Pre-process label for each example\"\"\"\n",
    "#Create dictionary to assign encoded integer to each class.\n",
    "classes = ['LFT','TooBig','NoRead','ValidDim','MultiRead','Irreg','TooSmall','Gap']\n",
    "class_dict = {classes[i]:i for i in range(len(classes))}\n",
    "\n",
    "#Extract and encode contents of condition field only for conditions listed in the `classes` list\n",
    "conditions = [[class_dict[c] for c in obj.condition.contents[0].split(',') if c in classes]\\\n",
    "              for obj in soup.find_all('objectdata')]\n",
    "##Perform one-hot-encoding\n",
    "#Initialize matrix\n",
    "conditions_encoded = np.zeros([len(conditions),len(classes)])\n",
    "#Encode position in matrix for place of class\n",
    "for c in range(len(conditions)):\n",
    "    conditions_encoded[c,conditions[c]] = 1\n",
    "#Store in dataframe\n",
    "label_df = pd.DataFrame(conditions_encoded,columns=classes).astype(int)"
   ]
  },
  {
   "cell_type": "code",
   "execution_count": 34,
   "metadata": {},
   "outputs": [],
   "source": [
    "\"\"\"Extract relevant information from each field for all objects\"\"\"\n",
    "cols = ['date','time','height','width','length','volume','weight','angle','gap','velocity','velocity_units','belt_velocity',\\\n",
    "        'belt_velocity_units']\n",
    "#Initialize dictionary for storing extracted data\n",
    "data = {}\n",
    "for obj in soup.find_all('objectdata'):\n",
    "    #Time stamp\n",
    "    [date,time] = obj.timestamp.contents[0].split('T')\n",
    "    #Gap information\n",
    "    gap = float(obj.oga.value.contents[0])\n",
    "    #Item volume\n",
    "    vol_keys = ['ohe','owi','ole']\n",
    "    [height,width,length] = [float(obj.volumetric.size.attrs[key]) for key in vol_keys]\n",
    "    vol = height*width*length\n",
    "    vol_units = obj.volumetric.size.attrs['unit']\n",
    "    #Item angle\n",
    "    angle = int(obj.volumetric.oa.value.contents[0])\n",
    "    #Item Velocity\n",
    "    vel = int(obj.volumetric.otve.value.contents[0])\n",
    "    vel_units = obj.volumetric.otve.attrs['unit']\n",
    "    #Item weight\n",
    "    weight = float(obj.scaledata.value.contents[0]) #In lbs\n",
    "    #Conveyor belt velocity\n",
    "    belt_vel = float(obj.sorterstate.speed.value.contents[0])\n",
    "    belt_vel_units = obj.sorterstate.speed.attrs['unit']\n",
    "    \n",
    "    #Add data to dictionary\n",
    "    d = [date,time,height,width,length,vol,weight,angle,gap,vel,vel_units,belt_vel,belt_vel_units]\n",
    "    for k,v in zip(cols,d):\n",
    "        #Initialize each entry with an empty list and then append new value\n",
    "        data[k] = data.get(k,[])+[v]\n",
    "#Construct dataframe\n",
    "df = pd.DataFrame(data,columns=cols)\n",
    "#Add labels\n",
    "df = df.join(label_df)\n",
    "#Save as csv\n",
    "df.to_csv('sampledata.csv',index=False)"
   ]
  },
  {
   "cell_type": "code",
   "execution_count": 66,
   "metadata": {},
   "outputs": [
    {
     "data": {
      "image/png": "[encoded data removed]",
      "text/plain": [
       "<matplotlib.figure.Figure at 0x2842239bf60>"
      ]
     },
     "metadata": {},
     "output_type": "display_data"
    }
   ],
   "source": [
    "sns.distplot(df.velocity,kde=False)\n",
    "plt.show()"
   ]
  },
  {
   "cell_type": "code",
   "execution_count": 32,
   "metadata": {},
   "outputs": [
    {
     "name": "stdout",
     "output_type": "stream",
     "text": [
      "<devicename>0089PS06CT1</devicename>\n",
      "\n",
      "<deviceid>32</deviceid>\n",
      "\n",
      "<timestamp>2017-07-07T23:00:13.295</timestamp>\n",
      "\n",
      "<incr>41571</incr>\n",
      "\n",
      "<general errornb=\"0\" iostate=\"8800\"></general>\n",
      "\n",
      "<sorterstate state=\"started\"><speed unit=\"ft/min\"><value>540.55</value></speed></sorterstate>\n",
      "\n",
      "<sortstate session=\"SOS\" sortname=\"2017-07-07 21:20:34\"></sortstate>\n",
      "\n",
      "<systemstate><warning dn=\"32\" errorid=\"03000400\" extinfo=\"CAN1: Dev. 1\" numberoccurance=\"69\"><firsttimeoccur>2017-05-30T10:06:22</firsttimeoccur><lasttimeoccur>2017-07-07T19:58:39</lasttimeoccur></warning><warning dn=\"32\" errorid=\"03000400\" extinfo=\"CAN1: Dev. 4\" numberoccurance=\"71\"><firsttimeoccur>2017-05-30T10:06:25</firsttimeoccur><lasttimeoccur>2017-07-07T20:19:49</lasttimeoccur></warning><warning dn=\"32\" errorid=\"03000400\" extinfo=\"CAN1: Dev. 3\" numberoccurance=\"71\"><firsttimeoccur>2017-05-30T10:06:29</firsttimeoccur><lasttimeoccur>2017-07-07T19:05:16</lasttimeoccur></warning><warning dn=\"32\" errorid=\"03000400\" extinfo=\"CAN1: Dev. 2\" numberoccurance=\"58\"><firsttimeoccur>2017-05-30T10:06:31</firsttimeoccur><lasttimeoccur>2017-07-07T20:05:23</lasttimeoccur></warning><warning dn=\"32\" errorid=\"03000400\" extinfo=\"CAN1: Dev. 5\" numberoccurance=\"71\"><firsttimeoccur>2017-05-30T10:06:33</firsttimeoccur><lasttimeoccur>2017-07-07T18:52:10</lasttimeoccur></warning><warning dn=\"32\" errorid=\"03000400\" extinfo=\"CAN1: Dev. 6\" numberoccurance=\"79\"><firsttimeoccur>2017-05-30T10:06:34</firsttimeoccur><lasttimeoccur>2017-07-07T22:23:02</lasttimeoccur></warning></systemstate>\n",
      "\n"
     ]
    }
   ],
   "source": [
    "for n in soup.heartbeatdata:\n",
    "    print(n)\n",
    "    print()"
   ]
  }
 ],
 "metadata": {
  "kernelspec": {
   "display_name": "Python 3",
   "language": "python",
   "name": "python3"
  },
  "language_info": {
   "codemirror_mode": {
    "name": "ipython",
    "version": 3
   },
   "file_extension": ".py",
   "mimetype": "text/x-python",
   "name": "python",
   "nbconvert_exporter": "python",
   "pygments_lexer": "ipython3",
   "version": "3.5.0"
  }
 },
 "nbformat": 4,
 "nbformat_minor": 2
}
