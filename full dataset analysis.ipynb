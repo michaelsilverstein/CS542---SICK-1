{
 "cells": [
  {
   "cell_type": "code",
   "execution_count": 134,
   "metadata": {},
   "outputs": [],
   "source": [
    "import pandas as pd\n",
    "import numpy as np\n",
    "import matplotlib.pyplot as plt\n",
    "import seaborn as sns\n",
    "from sklearn import svm\n",
    "plt.rcParams['figure.figsize'] = (12,6)"
   ]
  },
  {
   "cell_type": "code",
   "execution_count": 154,
   "metadata": {},
   "outputs": [],
   "source": [
    "\"Load data\"\n",
    "df = pd.read_csv('data/all_processed_data.csv')\n",
    "train_df = pd.read_csv('data/train.csv')\n",
    "test_df = pd.read_csv('data/test.csv')\n",
    "df = df.dropna()\n",
    "df.gap[df.gap<0] = 0"
   ]
  },
  {
   "cell_type": "code",
   "execution_count": 159,
   "metadata": {},
   "outputs": [],
   "source": [
    "\"\"\"Create train and test sets\"\"\"\n",
    "# train_df = df.sample(frac=.75)\n",
    "# test_df = df.iloc[~df.index.isin(train_df.index)]\n",
    "# train_df.to_csv('data/train.csv',index=False)\n",
    "# test_df.to_csv('data/test.csv',index=False)"
   ]
  },
  {
   "cell_type": "code",
   "execution_count": 51,
   "metadata": {},
   "outputs": [
    {
     "data": {
      "image/png": "[encoded data removed]",
      "text/plain": [
       "<matplotlib.figure.Figure at 0x220b6539780>"
      ]
     },
     "metadata": {},
     "output_type": "display_data"
    }
   ],
   "source": [
    "\"\"\"Visualization\"\"\"\n",
    "#Distribution of LFT events\n",
    "sns.countplot('weekday',data=df,hue='LFT')\n",
    "plt.title('Distribution of LFT events')\n",
    "plt.xlabel('')\n",
    "plt.show()\n",
    "## NOT LFT EVENTS FAIRLY CONSISTENT"
   ]
  },
  {
   "cell_type": "code",
   "execution_count": 52,
   "metadata": {},
   "outputs": [
    {
     "data": {
      "image/png": "[encoded data removed]",
      "text/plain": [
       "<matplotlib.figure.Figure at 0x22097d6aa58>"
      ]
     },
     "metadata": {},
     "output_type": "display_data"
    }
   ],
   "source": [
    "#Distribution of events over time\n",
    "df[['time','LFT']].pivot(columns='LFT').plot(kind='hist',stacked=True,bins=20,ec='k')\n",
    "plt.legend(['Not LFT','LFT'])\n",
    "plt.title('Distribution of events over time')\n",
    "plt.xlabel('Time in day (s)')\n",
    "plt.show()"
   ]
  },
  {
   "cell_type": "code",
   "execution_count": 80,
   "metadata": {},
   "outputs": [
    {
     "name": "stderr",
     "output_type": "stream",
     "text": [
      "c:\\users\\michael\\appdata\\local\\programs\\python\\python35\\lib\\site-packages\\pandas\\core\\generic.py:3110: SettingWithCopyWarning: \n",
      "A value is trying to be set on a copy of a slice from a DataFrame.\n",
      "Try using .loc[row_indexer,col_indexer] = value instead\n",
      "\n",
      "See the caveats in the documentation: http://pandas.pydata.org/pandas-docs/stable/indexing.html#indexing-view-versus-copy\n",
      "  self[name] = value\n"
     ]
    }
   ],
   "source": [
    "# PCA\n",
    "weekday_dict = {day:n for day,n in zip(['Monday','Tuesday','Wednesday','Thursday','Friday','Saturday','Sunday'],range(7))}\n",
    "data_df = df[['time','height','width','length','volume','weight','angle','gap','velocity','weekday','LFT']]\n",
    "data_df.weekday = data_df.weekday.apply(lambda x: weekday_dict[x])\n",
    "data = np.array(data_df.dropna())"
   ]
  },
  {
   "cell_type": "code",
   "execution_count": 133,
   "metadata": {},
   "outputs": [
    {
     "data": {
      "text/plain": [
       "array([[-0.00249294,  0.00155897, -0.68606345,  0.00486746, -0.01787562,\n",
       "        -0.10690993, -0.71447287,  0.02859842, -0.06669952,  0.04239286],\n",
       "       [ 0.44154247,  0.25778994, -0.03748817, -0.72273641, -0.31609201,\n",
       "         0.29888032, -0.01800317, -0.14936534,  0.02677406, -0.04729414]])"
      ]
     },
     "execution_count": 133,
     "metadata": {},
     "output_type": "execute_result"
    }
   ],
   "source": [
    "x = data[:,:-1]\n",
    "labels = data[:,-1]\n",
    "#Normalize\n",
    "x_norm = (x-x.mean(axis=0))/x.std(axis=0)\n",
    "#Calculate covariance\n",
    "cov = np.cov(x_norm,rowvar=False)\n",
    "#Calculate eigenvectors\n",
    "[lam,v] = np.linalg.eig(cov)\n",
    "#Take first two principal components\n",
    "pcs = np.array(pd.DataFrame(np.hstack([lam.reshape(-1,1),v])).sort_values(by=0,ascending=False).iloc[:2,1:])\n"
   ]
  },
  {
   "cell_type": "code",
   "execution_count": 243,
   "metadata": {},
   "outputs": [],
   "source": [
    "\"\"\"Analysis\"\"\"\n",
    "# train_idx = np.floor(np.arange(0,len(train_df),len(train_df)/5)).astype(int)\n",
    "# train_idx = list(train_idx)+[len(train_df)]\n",
    "# train_sets = [train_df.iloc[train_idx[i]:train_idx[i+1]-1] for i in range(len(train_idx)-1)]\n",
    "\n",
    "# test_idx = np.floor(np.arange(0,len(test_df),len(test_df)/5)).astype(int)\n",
    "# test_idx = list(test_idx) + [len(test_df)]\n",
    "# test_sets = [test_df.iloc[test_idx[i]:test_idx[i+1]-1] for i in range(len(test_idx)-1)]\n",
    "shuffled = df.sample(frac=1,random_state=1234)\n",
    "\n",
    "weekday_dict = {day:n for day,n in zip(['Monday','Tuesday','Wednesday','Thursday','Friday','Saturday','Sunday'],range(7))}\n",
    "cols = ['time','height','width','length','volume','weight','angle','gap','velocity','weekday','LFT']\n",
    "shuffled = shuffled[cols]\n",
    "shuffled.weekday = shuffled.weekday.apply(lambda x: weekday_dict[x])\n",
    "\n",
    "idx = np.floor(np.arange(0,len(shuffled),len(shuffled)/5)).astype(int)\n",
    "idx = list(idx)+[len(shuffled)]\n",
    "sets = {i:shuffled.iloc[idx[i]:idx[i+1]-1] for i in range(len(idx)-1)}"
   ]
  },
  {
   "cell_type": "code",
   "execution_count": null,
   "metadata": {},
   "outputs": [],
   "source": [
    "#Cross validation\n",
    "acc = []\n",
    "for i in range(len(sets)): \n",
    "    #Training set (leaving out current test set)\n",
    "    train = pd.concat([sets[s] for s in range(len(sets)) if s!=i])\n",
    "    train_data = train[cols]\n",
    "    train_labels = train.LFT\n",
    "    \n",
    "    #Test set\n",
    "    test = sets[i]\n",
    "    test_data = test[cols]\n",
    "    test_labels = test.LFT\n",
    "    \n",
    "    clf = svm.SVC().fit(train_data,train_labels)\n",
    "    # Accuracy = (TP+TN)/total\n",
    "    # Precision = TP/(TP+FP)\n",
    "    # Recall = TP/(TP+FN)\n",
    "    acc.append(clf.score(test_data,test_labels))"
   ]
  },
  {
   "cell_type": "code",
   "execution_count": null,
   "metadata": {},
   "outputs": [],
   "source": [
    "acc"
   ]
  }
 ],
 "metadata": {
  "kernelspec": {
   "display_name": "Python 3",
   "language": "python",
   "name": "python3"
  },
  "language_info": {
   "codemirror_mode": {
    "name": "ipython",
    "version": 3
   },
   "file_extension": ".py",
   "mimetype": "text/x-python",
   "name": "python",
   "nbconvert_exporter": "python",
   "pygments_lexer": "ipython3",
   "version": "3.5.0"
  }
 },
 "nbformat": 4,
 "nbformat_minor": 2
}
